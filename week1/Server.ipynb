{
 "cells": [
  {
   "cell_type": "code",
   "execution_count": null,
   "id": "453b8dd4-2965-409c-9aa0-28a4b558e25b",
   "metadata": {},
   "outputs": [
    {
     "name": "stdout",
     "output_type": "stream",
     "text": [
      "Server started at http://localhost:8000\n",
      "This server is running in the background.\n",
      "To stop it, you must restart the Jupyter kernel.\n"
     ]
    },
    {
     "name": "stderr",
     "output_type": "stream",
     "text": [
      "127.0.0.1 - - [16/Jul/2025 23:33:07] \"GET / HTTP/1.1\" 200 -\n",
      "127.0.0.1 - - [16/Jul/2025 23:33:07] \"GET /favicon.ico HTTP/1.1\" 200 -\n",
      "127.0.0.1 - - [16/Jul/2025 23:35:18] \"GET / HTTP/1.1\" 200 -\n"
     ]
    }
   ],
   "source": [
    "import http.server\n",
    "import socketserver\n",
    "import threading\n",
    "import time\n",
    "\n",
    "# Define the port the server will run on\n",
    "PORT = 8000\n",
    "\n",
    "# This is the request handler. It will be called for every request.\n",
    "class MyHttpRequestHandler(http.server.SimpleHTTPRequestHandler):\n",
    "    def do_GET(self):\n",
    "        # Set the response status code\n",
    "        self.send_response(200)\n",
    "        \n",
    "        # Set the response headers\n",
    "        self.send_header(\"Content-type\", \"text/plain\")\n",
    "        self.end_headers()\n",
    "        \n",
    "        # Write the response content\n",
    "        self.wfile.write(b\"hello world AV\")\n",
    "\n",
    "# Create the server object\n",
    "Handler = MyHttpRequestHandler\n",
    "httpd = socketserver.TCPServer((\"\", PORT), Handler)\n",
    "\n",
    "# Run the server in a separate thread so it doesn't block the notebook\n",
    "server_thread = threading.Thread(target=httpd.serve_forever)\n",
    "server_thread.daemon = True\n",
    "server_thread.start()\n",
    "\n",
    "print(f\"Server started at http://localhost:{PORT}\")\n",
    "print(\"This server is running in the background.\")\n",
    "print(\"To stop it, you must restart the Jupyter kernel.\")\n",
    "\n",
    "# Keep the main thread alive to see the print statements, \n",
    "# otherwise the cell might finish executing too quickly.\n",
    "# In a real script you might not need this loop.\n",
    "try:\n",
    "    while True:\n",
    "        time.sleep(1)\n",
    "except KeyboardInterrupt:\n",
    "    print(\"\\nStopping server...\")\n",
    "    httpd.shutdown()\n",
    "    print(\"Server stopped.\")"
   ]
  },
  {
   "cell_type": "code",
   "execution_count": null,
   "id": "2537c67e-e5f0-42b6-af9b-2c325104bdd3",
   "metadata": {},
   "outputs": [],
   "source": []
  }
 ],
 "metadata": {
  "kernelspec": {
   "display_name": "Python 3 (ipykernel)",
   "language": "python",
   "name": "python3"
  },
  "language_info": {
   "codemirror_mode": {
    "name": "ipython",
    "version": 3
   },
   "file_extension": ".py",
   "mimetype": "text/x-python",
   "name": "python",
   "nbconvert_exporter": "python",
   "pygments_lexer": "ipython3",
   "version": "3.12.11"
  }
 },
 "nbformat": 4,
 "nbformat_minor": 5
}
