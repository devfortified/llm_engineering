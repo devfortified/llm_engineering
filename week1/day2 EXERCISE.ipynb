{
 "cells": [
  {
   "cell_type": "markdown",
   "id": "d15d8294-3328-4e07-ad16-8a03e9bbfdb9",
   "metadata": {},
   "source": [
    "# Welcome to your first assignment!\n",
    "\n",
    "Instructions are below. Please give this a try, and look in the solutions folder if you get stuck (or feel free to ask me!)"
   ]
  },
  {
   "cell_type": "markdown",
   "id": "ada885d9-4d42-4d9b-97f0-74fbbbfe93a9",
   "metadata": {},
   "source": [
    "<table style=\"margin: 0; text-align: left;\">\n",
    "    <tr>\n",
    "        <td style=\"width: 150px; height: 150px; vertical-align: middle;\">\n",
    "            <img src=\"../resources.jpg\" width=\"150\" height=\"150\" style=\"display: block;\" />\n",
    "        </td>\n",
    "        <td>\n",
    "            <h2 style=\"color:#f71;\">Just before we get to the assignment --</h2>\n",
    "            <span style=\"color:#f71;\">I thought I'd take a second to point you at this page of useful resources for the course. This includes links to all the slides.<br/>\n",
    "            <a href=\"https://edwarddonner.com/2024/11/13/llm-engineering-resources/\">https://edwarddonner.com/2024/11/13/llm-engineering-resources/</a><br/>\n",
    "            Please keep this bookmarked, and I'll continue to add more useful links there over time.\n",
    "            </span>\n",
    "        </td>\n",
    "    </tr>\n",
    "</table>"
   ]
  },
  {
   "cell_type": "markdown",
   "id": "6e9fa1fc-eac5-4d1d-9be4-541b3f2b3458",
   "metadata": {},
   "source": [
    "# HOMEWORK EXERCISE ASSIGNMENT\n",
    "\n",
    "Upgrade the day 1 project to summarize a webpage to use an Open Source model running locally via Ollama rather than OpenAI\n",
    "\n",
    "You'll be able to use this technique for all subsequent projects if you'd prefer not to use paid APIs.\n",
    "\n",
    "**Benefits:**\n",
    "1. No API charges - open-source\n",
    "2. Data doesn't leave your box\n",
    "\n",
    "**Disadvantages:**\n",
    "1. Significantly less power than Frontier Model\n",
    "\n",
    "## Recap on installation of Ollama\n",
    "\n",
    "Simply visit [ollama.com](https://ollama.com) and install!\n",
    "\n",
    "Once complete, the ollama server should already be running locally.  \n",
    "If you visit:  \n",
    "[http://localhost:11434/](http://localhost:11434/)\n",
    "\n",
    "You should see the message `Ollama is running`.  \n",
    "\n",
    "If not, bring up a new Terminal (Mac) or Powershell (Windows) and enter `ollama serve`  \n",
    "And in another Terminal (Mac) or Powershell (Windows), enter `ollama pull llama3.2`  \n",
    "Then try [http://localhost:11434/](http://localhost:11434/) again.\n",
    "\n",
    "If Ollama is slow on your machine, try using `llama3.2:1b` as an alternative. Run `ollama pull llama3.2:1b` from a Terminal or Powershell, and change the code below from `MODEL = \"llama3.2\"` to `MODEL = \"llama3.2:1b\"`"
   ]
  },
  {
   "cell_type": "code",
   "execution_count": 10,
   "id": "4e2a9393-7767-488e-a8bf-27c12dca35bd",
   "metadata": {},
   "outputs": [],
   "source": [
    "# imports\n",
    "import os\n",
    "import requests\n",
    "from bs4 import BeautifulSoup\n",
    "from IPython.display import Markdown, display\n",
    "os.environ['NO_PROXY'] = 'localhost,127.0.0.1' "
   ]
  },
  {
   "cell_type": "code",
   "execution_count": 11,
   "id": "29ddd15d-a3c5-4f4e-a678-873f56162724",
   "metadata": {},
   "outputs": [],
   "source": [
    "# Constants\n",
    "\n",
    "OLLAMA_API = \"http://localhost:11434/api/chat\"\n",
    "HEADERS = {\"Content-Type\": \"application/json\"}\n",
    "MODEL = \"llama3.2\""
   ]
  },
  {
   "cell_type": "code",
   "execution_count": 12,
   "id": "dac0a679-599c-441f-9bf2-ddc73d35b940",
   "metadata": {},
   "outputs": [],
   "source": [
    "# Create a messages list using the same format that we used for OpenAI\n",
    "\n",
    "messages = [\n",
    "    {\"role\": \"user\", \"content\": \"Describe some of the business applications of Generative AI\"}\n",
    "]"
   ]
  },
  {
   "cell_type": "code",
   "execution_count": 13,
   "id": "7bb9c624-14f0-4945-a719-8ddb64f66f47",
   "metadata": {},
   "outputs": [],
   "source": [
    "payload = {\n",
    "        \"model\": MODEL,\n",
    "        \"messages\": messages,\n",
    "        \"stream\": False\n",
    "    }"
   ]
  },
  {
   "cell_type": "code",
   "execution_count": null,
   "id": "479ff514-e8bd-4985-a572-2ea28bb4fa40",
   "metadata": {},
   "outputs": [],
   "source": [
    "# Let's just make sure the model is loaded\n",
    "\n",
    "!ollama pull llama3.2"
   ]
  },
  {
   "cell_type": "code",
   "execution_count": 14,
   "id": "42b9f644-522d-4e05-a691-56e7658c0ea9",
   "metadata": {},
   "outputs": [
    {
     "name": "stdout",
     "output_type": "stream",
     "text": [
      "Generative Artificial Intelligence (AI) has numerous business applications across various industries. Some of these applications include:\n",
      "\n",
      "1. **Content Generation**: Generative AI can be used to generate high-quality content such as articles, social media posts, product descriptions, and more. This can help businesses save time and resources while also improving the quality of their content.\n",
      "\n",
      "2. **Product Design**: Generative AI can be used to design new products, such as furniture, clothing, or electronics. It can create multiple designs in a short amount of time, reducing the need for human designers and increasing innovation.\n",
      "\n",
      "3. **Chatbots and Virtual Assistants**: Generative AI can be used to create more sophisticated chatbots and virtual assistants that can understand and respond to user queries in a more human-like way.\n",
      "\n",
      "4. **Image and Video Generation**: Generative AI can be used to generate high-quality images and videos for use in marketing campaigns, product demos, or other applications where visual content is required.\n",
      "\n",
      "5. **Predictive Analytics**: Generative AI can be used to predict customer behavior, identify trends, and make forecasts about future market conditions. This can help businesses make data-driven decisions and stay ahead of the competition.\n",
      "\n",
      "6. **Marketing Automation**: Generative AI can be used to automate marketing tasks such as email campaigns, social media posting, and lead generation. It can also help personalize marketing messages based on individual customer behavior and preferences.\n",
      "\n",
      "7. **Music and Audio Generation**: Generative AI can be used to create new music or audio tracks for use in advertising, film, or other applications where high-quality audio is required.\n",
      "\n",
      "8. **Data Augmentation**: Generative AI can be used to generate new data samples that can be used to augment existing datasets. This can help improve the accuracy of machine learning models and reduce the need for large amounts of labeled data.\n",
      "\n",
      "9. **Creative Writing**: Generative AI can be used to generate high-quality written content such as blog posts, articles, or even entire books.\n",
      "\n",
      "10. **Game Development**: Generative AI can be used to create new game levels, characters, or other game elements that can help improve gameplay and increase player engagement.\n",
      "\n",
      "11. **Personalized Recommendations**: Generative AI can be used to generate personalized product recommendations for customers based on their past behavior and preferences.\n",
      "\n",
      "12. **Speech Recognition**: Generative AI can be used to improve speech recognition systems by generating more accurate transcripts of spoken words.\n",
      "\n",
      "13. **Medical Imaging Analysis**: Generative AI can be used to analyze medical images such as X-rays, CT scans, or MRIs to help diagnose diseases or detect abnormalities.\n",
      "\n",
      "14. **Cybersecurity**: Generative AI can be used to generate new types of malware that can be used for testing and security analysis.\n",
      "\n",
      "15. **Education and Learning**: Generative AI can be used to create personalized learning experiences for students by generating customized lesson plans, videos, or interactive simulations.\n",
      "\n",
      "These are just a few examples of the many business applications of Generative AI. As the technology continues to evolve, we can expect to see even more innovative uses in the future.\n"
     ]
    }
   ],
   "source": [
    "# If this doesn't work for any reason, try the 2 versions in the following cells\n",
    "# And double check the instructions in the 'Recap on installation of Ollama' at the top of this lab\n",
    "# And if none of that works - contact me!\n",
    "import os\n",
    "os.environ['HTTP_PROXY'] = 'http://evapzen.fpl.com:10262'\n",
    "os.environ['HTTPS_PROXY'] = 'http://evapzen.fpl.com:10262'\n",
    "response = requests.post(OLLAMA_API, json=payload, headers=HEADERS)\n",
    "print(response.json()['message']['content'])"
   ]
  },
  {
   "cell_type": "markdown",
   "id": "6a021f13-d6a1-4b96-8e18-4eae49d876fe",
   "metadata": {},
   "source": [
    "# Introducing the ollama package\n",
    "\n",
    "And now we'll do the same thing, but using the elegant ollama python package instead of a direct HTTP call.\n",
    "\n",
    "Under the hood, it's making the same call as above to the ollama server running at localhost:11434"
   ]
  },
  {
   "cell_type": "code",
   "execution_count": 17,
   "id": "7745b9c4-57dc-4867-9180-61fa5db55eb8",
   "metadata": {},
   "outputs": [
    {
     "name": "stdout",
     "output_type": "stream",
     "text": [
      "Generative Artificial Intelligence (AI) has numerous business applications across various industries, including:\n",
      "\n",
      "1. **Content Creation**: Generative AI can generate high-quality content such as text, images, videos, and music, reducing the need for human writers and artists.\n",
      "2. **Marketing Automation**: AI-powered tools can create personalized marketing campaigns, product descriptions, and social media content based on customer data and preferences.\n",
      "3. **Product Design**: Generative AI can design products, such as furniture, clothing, and electronics, using computer-aided design (CAD) software and 3D printing technology.\n",
      "4. **Personalization**: AI-powered systems can analyze customer behavior and preferences to create personalized product recommendations, offers, and experiences.\n",
      "5. **Data Analysis**: Generative AI algorithms can analyze large datasets to identify patterns, trends, and insights, helping businesses make data-driven decisions.\n",
      "6. **Customer Service Chatbots**: AI-powered chatbots can generate responses to customer inquiries, reducing the need for human customer support agents.\n",
      "7. **Image and Video Editing**: Generative AI can edit images and videos using algorithms that mimic human editing skills, saving time and effort for designers and artists.\n",
      "8. **Music Composition**: AI-generated music can be used in various applications, such as advertising, film scores, and video game soundtracks.\n",
      "9. **Fashion Design**: Generative AI can design clothing and accessories, reducing the need for manual sketching and prototyping.\n",
      "10. **Supply Chain Optimization**: AI-powered systems can analyze data from various sources to optimize supply chain operations, predict demand, and reduce waste.\n",
      "\n",
      "Some specific business applications of Generative AI include:\n",
      "\n",
      "* **Product generation**: Companies like IKEA and Burberry are using generative AI to design new products and generate 3D models for production.\n",
      "* **Content optimization**: Google's AI-powered tools can generate optimized content for search engines, improving website visibility and ranking.\n",
      "* **Chatbot development**: Many companies are developing chatbots using Generative AI to provide 24/7 customer support and improve user experience.\n",
      "* **Marketing automation**: Brands like Nike and Coca-Cola use generative AI to create personalized marketing campaigns and product recommendations.\n",
      "\n",
      "These applications showcase the potential of Generative AI to transform various business processes, improving efficiency, reducing costs, and enhancing customer experiences.\n"
     ]
    }
   ],
   "source": [
    "import ollama\n",
    "\n",
    "#response = ollama.chat(model=MODEL, messages=messages)\n",
    "#print(response['message']['content'])\n",
    "\n",
    "client = ollama.Client(host='http://localhost:11434')\n",
    "try:\n",
    "    response = client.chat(model=MODEL, messages=messages)\n",
    "    print(response['message']['content'])\n",
    "\n",
    "except Exception as e:\n",
    "    print(f\"An error occurred: {e}\")\n",
    "    print(\"\\nEnsure the Ollama server is running at http://localhost:11434.\")\n"
   ]
  },
  {
   "cell_type": "markdown",
   "id": "a4704e10-f5fb-4c15-a935-f046c06fb13d",
   "metadata": {},
   "source": [
    "## Alternative approach - using OpenAI python library to connect to Ollama"
   ]
  },
  {
   "cell_type": "code",
   "execution_count": 16,
   "id": "23057e00-b6fc-4678-93a9-6b31cb704bff",
   "metadata": {},
   "outputs": [
    {
     "name": "stdout",
     "output_type": "stream",
     "text": [
      "Generative Artificial Intelligence (AI) has numerous business applications across various industries. Here are some examples:\n",
      "\n",
      "1. **Product Design and Development**: Generative AI can be used to design new products, such as logos, packaging, or industrial designs. It can also help with product testing, prototyping, and optimization.\n",
      "\n",
      "2. **Content Generation**: Generative AI can create high-quality content such as articles, social media posts, product descriptions, and more. This can save time and resources for businesses looking to ramp up their content marketing efforts.\n",
      "\n",
      "3. **Image and Video Creation**: Generative AI can be used to create visually appealing images and videos for business use cases, such as advertising, e-commerce, or corporate communications.\n",
      "\n",
      "4. **Customer Service Automation**: Generative AI-powered chatbots and virtual assistants can help businesses automate customer service tasks, such as answering frequent questions, assigning support tickets, and empathizing with customers.\n",
      "\n",
      "5. **Market Research and Analyst Support**: Generative AI can be used to analyze large datasets, generate hypotheses, and predict market trends. This can help businesses make data-driven decisions about investments, marketing strategies, and competition analysis.\n",
      "\n",
      "6. **Creative Writing and Copywriting**: Generative AI can assist human writers in generating ideas, outlines, or drafts for creative projects like blog posts, articles, social media posts, or even screenplays.\n",
      "\n",
      "7. **Business Intelligence and Reporting**: Generative AI can be used to automate reporting tasks by analyzing complex data sets, identifying patterns, and creating visualizations.\n"
     ]
    }
   ],
   "source": [
    "# There's actually an alternative approach that some people might prefer\n",
    "# You can use the OpenAI client python library to call Ollama:\n",
    "#import httpx\n",
    "from openai import OpenAI\n",
    "#ollama_via_openai = OpenAI(http_client=httpx.Client(verify=False),base_url='http://localhost:11434/v1', api_key='ollama')\n",
    "ollama_via_openai = OpenAI(base_url='http://localhost:11434/v1', api_key='ollama')\n",
    "\n",
    "response = ollama_via_openai.chat.completions.create(\n",
    "    model=MODEL,\n",
    "    messages=messages\n",
    ")\n",
    "\n",
    "print(response.choices[0].message.content)"
   ]
  },
  {
   "cell_type": "markdown",
   "id": "9f9e22da-b891-41f6-9ac9-bd0c0a5f4f44",
   "metadata": {},
   "source": [
    "## Are you confused about why that works?\n",
    "\n",
    "It seems strange, right? We just used OpenAI code to call Ollama?? What's going on?!\n",
    "\n",
    "Here's the scoop:\n",
    "\n",
    "The python class `OpenAI` is simply code written by OpenAI engineers that makes calls over the internet to an endpoint.  \n",
    "\n",
    "When you call `openai.chat.completions.create()`, this python code just makes a web request to the following url: \"https://api.openai.com/v1/chat/completions\"\n",
    "\n",
    "Code like this is known as a \"client library\" - it's just wrapper code that runs on your machine to make web requests. The actual power of GPT is running on OpenAI's cloud behind this API, not on your computer!\n",
    "\n",
    "OpenAI was so popular, that lots of other AI providers provided identical web endpoints, so you could use the same approach.\n",
    "\n",
    "So Ollama has an endpoint running on your local box at http://localhost:11434/v1/chat/completions  \n",
    "And in week 2 we'll discover that lots of other providers do this too, including Gemini and DeepSeek.\n",
    "\n",
    "And then the team at OpenAI had a great idea: they can extend their client library so you can specify a different 'base url', and use their library to call any compatible API.\n",
    "\n",
    "That's it!\n",
    "\n",
    "So when you say: `ollama_via_openai = OpenAI(base_url='http://localhost:11434/v1', api_key='ollama')`  \n",
    "Then this will make the same endpoint calls, but to Ollama instead of OpenAI."
   ]
  },
  {
   "cell_type": "markdown",
   "id": "bc7d1de3-e2ac-46ff-a302-3b4ba38c4c90",
   "metadata": {},
   "source": [
    "## Also trying the amazing reasoning model DeepSeek\n",
    "\n",
    "Here we use the version of DeepSeek-reasoner that's been distilled to 1.5B.  \n",
    "This is actually a 1.5B variant of Qwen that has been fine-tuned using synethic data generated by Deepseek R1.\n",
    "\n",
    "Other sizes of DeepSeek are [here](https://ollama.com/library/deepseek-r1) all the way up to the full 671B parameter version, which would use up 404GB of your drive and is far too large for most!"
   ]
  },
  {
   "cell_type": "code",
   "execution_count": null,
   "id": "cf9eb44e-fe5b-47aa-b719-0bb63669ab3d",
   "metadata": {},
   "outputs": [],
   "source": [
    "!ollama pull deepseek-r1:1.5b"
   ]
  },
  {
   "cell_type": "code",
   "execution_count": null,
   "id": "1d3d554b-e00d-4c08-9300-45e073950a76",
   "metadata": {},
   "outputs": [],
   "source": [
    "# This may take a few minutes to run! You should then see a fascinating \"thinking\" trace inside <think> tags, followed by some decent definitions\n",
    "\n",
    "response = ollama_via_openai.chat.completions.create(\n",
    "    model=\"deepseek-r1:1.5b\",\n",
    "    messages=[{\"role\": \"user\", \"content\": \"Please give definitions of some core concepts behind LLMs: a neural network, attention and the transformer\"}]\n",
    ")\n",
    "\n",
    "print(response.choices[0].message.content)"
   ]
  },
  {
   "cell_type": "markdown",
   "id": "1622d9bb-5c68-4d4e-9ca4-b492c751f898",
   "metadata": {},
   "source": [
    "# NOW the exercise for you\n",
    "\n",
    "Take the code from day1 and incorporate it here, to build a website summarizer that uses Llama 3.2 running locally instead of OpenAI; use either of the above approaches."
   ]
  },
  {
   "cell_type": "code",
   "execution_count": null,
   "id": "6de38216-6d1c-48c4-877b-86d403f4e0f8",
   "metadata": {},
   "outputs": [],
   "source": []
  }
 ],
 "metadata": {
  "kernelspec": {
   "display_name": "Python 3 (ipykernel)",
   "language": "python",
   "name": "python3"
  },
  "language_info": {
   "codemirror_mode": {
    "name": "ipython",
    "version": 3
   },
   "file_extension": ".py",
   "mimetype": "text/x-python",
   "name": "python",
   "nbconvert_exporter": "python",
   "pygments_lexer": "ipython3",
   "version": "3.12.11"
  }
 },
 "nbformat": 4,
 "nbformat_minor": 5
}
